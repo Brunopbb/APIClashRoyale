{
 "cells": [
  {
   "cell_type": "code",
   "execution_count": 1,
   "metadata": {},
   "outputs": [],
   "source": [
    "import pandas as pd"
   ]
  },
  {
   "cell_type": "markdown",
   "metadata": {},
   "source": [
    "# CLASSIFIÇÃO DAS PESSOAS QUE PONTUARAM NAS GUERRAS ATÉ AGORA. OBS: APENAS O PRIMEIRO COLOCADO SEŔA PROMOVIDO PARA ANCIÃO"
   ]
  },
  {
   "cell_type": "code",
   "execution_count": 9,
   "metadata": {},
   "outputs": [],
   "source": [
    "RANK = pd.read_csv(\"rank.csv\").drop(\"Unnamed: 0\", axis=1)"
   ]
  },
  {
   "cell_type": "code",
   "execution_count": 10,
   "metadata": {},
   "outputs": [
    {
     "data": {
      "text/plain": "           Tag     Nome  TotalCartas  TotalVitorias  TotalPontos\n0  #YRUQ0GUJC    pykeno          510              1           10\n1  #92C9JP0V8   anthoni          480              1            7\n2  #L2C9Y0CG0      yezo          400              1            5",
      "text/html": "<div>\n<style scoped>\n    .dataframe tbody tr th:only-of-type {\n        vertical-align: middle;\n    }\n\n    .dataframe tbody tr th {\n        vertical-align: top;\n    }\n\n    .dataframe thead th {\n        text-align: right;\n    }\n</style>\n<table border=\"1\" class=\"dataframe\">\n  <thead>\n    <tr style=\"text-align: right;\">\n      <th></th>\n      <th>Tag</th>\n      <th>Nome</th>\n      <th>TotalCartas</th>\n      <th>TotalVitorias</th>\n      <th>TotalPontos</th>\n    </tr>\n  </thead>\n  <tbody>\n    <tr>\n      <th>0</th>\n      <td>#YRUQ0GUJC</td>\n      <td>pykeno</td>\n      <td>510</td>\n      <td>1</td>\n      <td>10</td>\n    </tr>\n    <tr>\n      <th>1</th>\n      <td>#92C9JP0V8</td>\n      <td>anthoni</td>\n      <td>480</td>\n      <td>1</td>\n      <td>7</td>\n    </tr>\n    <tr>\n      <th>2</th>\n      <td>#L2C9Y0CG0</td>\n      <td>yezo</td>\n      <td>400</td>\n      <td>1</td>\n      <td>5</td>\n    </tr>\n  </tbody>\n</table>\n</div>"
     },
     "execution_count": 10,
     "metadata": {},
     "output_type": "execute_result"
    }
   ],
   "source": [
    "RANK"
   ]
  },
  {
   "cell_type": "markdown",
   "metadata": {},
   "source": [
    "# CLASSIFIÇÃO DAS DOAÇÕES. OBS: APENAS O PRIMEIRO SERÁ PROMOVIDO PARA ANCIÃO"
   ]
  },
  {
   "cell_type": "code",
   "execution_count": 11,
   "metadata": {},
   "outputs": [],
   "source": [
    "DONATION = pd.read_csv(\"donations\").drop(\"Unnamed: 0\", axis=1)"
   ]
  },
  {
   "cell_type": "code",
   "execution_count": 12,
   "metadata": {},
   "outputs": [
    {
     "data": {
      "text/plain": "           tag             name      role  trophies  donations\n0    #R22LC2LU           Candio    leader      5906        414\n1   #8Y82J8LUL            Bruno  coLeader      5371        272\n2   #PLU9LP908           shelby    member      4913        235\n3   #29QJQLYRU              ERB    member      5789        221\n4   #PJYUPU2V9   felipe gerardi    member      3807        203\n5   #LJPPJQR80            Maria    member      4829        187\n6   #2JR98YPR8              Noe    member      5262        166\n7    #RCVRCY9Q        Prodigy13    member      4981        154\n8   #20QULQU9V        netodiniz    member      4853        143\n9   #L2C9Y0CG0             yezo    member      4724        142\n10  #L2VLQU9UJ  Samuel Clash ON    member      4457        123",
      "text/html": "<div>\n<style scoped>\n    .dataframe tbody tr th:only-of-type {\n        vertical-align: middle;\n    }\n\n    .dataframe tbody tr th {\n        vertical-align: top;\n    }\n\n    .dataframe thead th {\n        text-align: right;\n    }\n</style>\n<table border=\"1\" class=\"dataframe\">\n  <thead>\n    <tr style=\"text-align: right;\">\n      <th></th>\n      <th>tag</th>\n      <th>name</th>\n      <th>role</th>\n      <th>trophies</th>\n      <th>donations</th>\n    </tr>\n  </thead>\n  <tbody>\n    <tr>\n      <th>0</th>\n      <td>#R22LC2LU</td>\n      <td>Candio</td>\n      <td>leader</td>\n      <td>5906</td>\n      <td>414</td>\n    </tr>\n    <tr>\n      <th>1</th>\n      <td>#8Y82J8LUL</td>\n      <td>Bruno</td>\n      <td>coLeader</td>\n      <td>5371</td>\n      <td>272</td>\n    </tr>\n    <tr>\n      <th>2</th>\n      <td>#PLU9LP908</td>\n      <td>shelby</td>\n      <td>member</td>\n      <td>4913</td>\n      <td>235</td>\n    </tr>\n    <tr>\n      <th>3</th>\n      <td>#29QJQLYRU</td>\n      <td>ERB</td>\n      <td>member</td>\n      <td>5789</td>\n      <td>221</td>\n    </tr>\n    <tr>\n      <th>4</th>\n      <td>#PJYUPU2V9</td>\n      <td>felipe gerardi</td>\n      <td>member</td>\n      <td>3807</td>\n      <td>203</td>\n    </tr>\n    <tr>\n      <th>5</th>\n      <td>#LJPPJQR80</td>\n      <td>Maria</td>\n      <td>member</td>\n      <td>4829</td>\n      <td>187</td>\n    </tr>\n    <tr>\n      <th>6</th>\n      <td>#2JR98YPR8</td>\n      <td>Noe</td>\n      <td>member</td>\n      <td>5262</td>\n      <td>166</td>\n    </tr>\n    <tr>\n      <th>7</th>\n      <td>#RCVRCY9Q</td>\n      <td>Prodigy13</td>\n      <td>member</td>\n      <td>4981</td>\n      <td>154</td>\n    </tr>\n    <tr>\n      <th>8</th>\n      <td>#20QULQU9V</td>\n      <td>netodiniz</td>\n      <td>member</td>\n      <td>4853</td>\n      <td>143</td>\n    </tr>\n    <tr>\n      <th>9</th>\n      <td>#L2C9Y0CG0</td>\n      <td>yezo</td>\n      <td>member</td>\n      <td>4724</td>\n      <td>142</td>\n    </tr>\n    <tr>\n      <th>10</th>\n      <td>#L2VLQU9UJ</td>\n      <td>Samuel Clash ON</td>\n      <td>member</td>\n      <td>4457</td>\n      <td>123</td>\n    </tr>\n  </tbody>\n</table>\n</div>"
     },
     "execution_count": 12,
     "metadata": {},
     "output_type": "execute_result"
    }
   ],
   "source": [
    "DONATION.head(11)"
   ]
  },
  {
   "cell_type": "markdown",
   "metadata": {},
   "source": [
    "# MINIMO DE DOAÇÕES NECESSARIAS ESSA SEMANA:"
   ]
  },
  {
   "cell_type": "code",
   "execution_count": 13,
   "metadata": {},
   "outputs": [
    {
     "data": {
      "text/plain": "346.0"
     },
     "execution_count": 13,
     "metadata": {},
     "output_type": "execute_result"
    }
   ],
   "source": [
    "DONATION[\"donations\"].mean()*5"
   ]
  }
 ],
 "metadata": {
  "kernelspec": {
   "display_name": "Python 3",
   "language": "python",
   "name": "python3"
  },
  "language_info": {
   "codemirror_mode": {
    "name": "ipython",
    "version": 3
   },
   "file_extension": ".py",
   "mimetype": "text/x-python",
   "name": "python",
   "nbconvert_exporter": "python",
   "pygments_lexer": "ipython3",
   "version": "3.7.6"
  }
 },
 "nbformat": 4,
 "nbformat_minor": 4
}