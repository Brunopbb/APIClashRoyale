{
 "cells": [
  {
   "cell_type": "code",
   "execution_count": 182,
   "metadata": {},
   "outputs": [],
   "source": [
    "import pandas as pd\n",
    "import numpy as np"
   ]
  },
  {
   "cell_type": "code",
   "execution_count": 183,
   "metadata": {},
   "outputs": [],
   "source": [
    "with open(\"DataFinal.txt\", \"r\") as file:\n",
    "    \n",
    "    lines = file.readlines()"
   ]
  },
  {
   "cell_type": "code",
   "execution_count": 184,
   "metadata": {},
   "outputs": [],
   "source": [
    "lista1 = [lines[i].split(\"*\") for i in range(len(lines))]\n",
    "lista1 = np.array(lista1)\n"
   ]
  },
  {
   "cell_type": "code",
   "execution_count": 185,
   "metadata": {},
   "outputs": [],
   "source": [
    "lista2 = [lista1[i][2].split(\" \") for i in range(len(lista1))]\n",
    "_ = [lista2[i].pop(0) for i in range(len(lista2))]"
   ]
  },
  {
   "cell_type": "code",
   "execution_count": 186,
   "metadata": {},
   "outputs": [],
   "source": [
    "lista2 = np.array(lista2, dtype=np.int64)"
   ]
  },
  {
   "cell_type": "code",
   "execution_count": 187,
   "metadata": {},
   "outputs": [],
   "source": [
    "df = pd.DataFrame(data=[lista1[:, 0], lista1[:, 1], lista2[:, 0], lista2[:, 1], lista2[:, 2]]).T.sort_values(by=[4], ascending=False)\n",
    "df.columns = [[\"Tag\", \"Nome\", \"TotalCartas\", \"TotalVitorias\", \"TotalPontos\"]]"
   ]
  },
  {
   "cell_type": "code",
   "execution_count": 188,
   "metadata": {},
   "outputs": [
    {
     "data": {
      "text/html": [
       "<div>\n",
       "<style scoped>\n",
       "    .dataframe tbody tr th:only-of-type {\n",
       "        vertical-align: middle;\n",
       "    }\n",
       "\n",
       "    .dataframe tbody tr th {\n",
       "        vertical-align: top;\n",
       "    }\n",
       "\n",
       "    .dataframe thead tr th {\n",
       "        text-align: left;\n",
       "    }\n",
       "</style>\n",
       "<table border=\"1\" class=\"dataframe\">\n",
       "  <thead>\n",
       "    <tr>\n",
       "      <th></th>\n",
       "      <th>Tag</th>\n",
       "      <th>Nome</th>\n",
       "      <th>TotalCartas</th>\n",
       "      <th>TotalVitorias</th>\n",
       "      <th>TotalPontos</th>\n",
       "    </tr>\n",
       "  </thead>\n",
       "  <tbody>\n",
       "    <tr>\n",
       "      <th>2</th>\n",
       "      <td>#YRUQ0GUJC</td>\n",
       "      <td>pykeno</td>\n",
       "      <td>1020</td>\n",
       "      <td>2</td>\n",
       "      <td>20</td>\n",
       "    </tr>\n",
       "    <tr>\n",
       "      <th>0</th>\n",
       "      <td>#92C9JP0V8</td>\n",
       "      <td>anthoni</td>\n",
       "      <td>480</td>\n",
       "      <td>1</td>\n",
       "      <td>7</td>\n",
       "    </tr>\n",
       "    <tr>\n",
       "      <th>3</th>\n",
       "      <td>#L2VLQU9UJ</td>\n",
       "      <td>Samuel Clash ON</td>\n",
       "      <td>400</td>\n",
       "      <td>1</td>\n",
       "      <td>7</td>\n",
       "    </tr>\n",
       "    <tr>\n",
       "      <th>1</th>\n",
       "      <td>#L2C9Y0CG0</td>\n",
       "      <td>yezo</td>\n",
       "      <td>400</td>\n",
       "      <td>1</td>\n",
       "      <td>5</td>\n",
       "    </tr>\n",
       "    <tr>\n",
       "      <th>4</th>\n",
       "      <td>#82GCJJP9G</td>\n",
       "      <td>yan</td>\n",
       "      <td>320</td>\n",
       "      <td>1</td>\n",
       "      <td>5</td>\n",
       "    </tr>\n",
       "  </tbody>\n",
       "</table>\n",
       "</div>"
      ],
      "text/plain": [
       "           Tag             Nome TotalCartas TotalVitorias TotalPontos\n",
       "2  #YRUQ0GUJC            pykeno        1020             2          20\n",
       "0  #92C9JP0V8           anthoni         480             1           7\n",
       "3  #L2VLQU9UJ   Samuel Clash ON         400             1           7\n",
       "1  #L2C9Y0CG0              yezo         400             1           5\n",
       "4  #82GCJJP9G               yan         320             1           5"
      ]
     },
     "execution_count": 188,
     "metadata": {},
     "output_type": "execute_result"
    }
   ],
   "source": [
    "df"
   ]
  },
  {
   "cell_type": "code",
   "execution_count": null,
   "metadata": {},
   "outputs": [],
   "source": []
  }
 ],
 "metadata": {
  "kernelspec": {
   "display_name": "Python 3",
   "language": "python",
   "name": "python3"
  },
  "language_info": {
   "codemirror_mode": {
    "name": "ipython",
    "version": 3
   },
   "file_extension": ".py",
   "mimetype": "text/x-python",
   "name": "python",
   "nbconvert_exporter": "python",
   "pygments_lexer": "ipython3",
   "version": "3.7.6"
  }
 },
 "nbformat": 4,
 "nbformat_minor": 4
}
